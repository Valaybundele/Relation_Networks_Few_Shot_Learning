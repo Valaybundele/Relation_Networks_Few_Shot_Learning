{
  "nbformat": 4,
  "nbformat_minor": 0,
  "metadata": {
    "colab": {
      "name": "5_way_1_shot_RelationNetwork",
      "provenance": [],
      "collapsed_sections": []
    },
    "kernelspec": {
      "name": "python3",
      "display_name": "Python 3"
    },
    "accelerator": "GPU"
  },
  "cells": [
    {
      "cell_type": "code",
      "metadata": {
        "id": "ofC4oDm0Iyva",
        "colab_type": "code",
        "colab": {}
      },
      "source": [
        "from google.colab import drive\n",
        "drive.mount('/content/drive')"
      ],
      "execution_count": null,
      "outputs": []
    },
    {
      "cell_type": "code",
      "metadata": {
        "id": "bL5Pcw-LUzgu",
        "colab_type": "code",
        "colab": {}
      },
      "source": [
        "import tensorflow.compat.v2 as tf\n",
        "import cv2\n",
        "import os\n",
        "import numpy as np\n",
        "from tensorflow.keras.layers import Conv2D,BatchNormalization, MaxPool2D, Activation, Flatten, Dense\n",
        "from tensorflow.keras import regularizers\n",
        "import random"
      ],
      "execution_count": null,
      "outputs": []
    },
    {
      "cell_type": "code",
      "metadata": {
        "id": "wNSW6qH1MfUF",
        "colab_type": "code",
        "colab": {}
      },
      "source": [
        "!unzip /content/drive/My\\ Drive/mini-imagenet.zip"
      ],
      "execution_count": null,
      "outputs": []
    },
    {
      "cell_type": "code",
      "metadata": {
        "id": "a3Cse5S5P2st",
        "colab_type": "code",
        "colab": {}
      },
      "source": [
        "images_path = '/content/images'"
      ],
      "execution_count": null,
      "outputs": []
    },
    {
      "cell_type": "code",
      "metadata": {
        "id": "ZCdeM77S69nn",
        "colab_type": "code",
        "colab": {}
      },
      "source": [
        "classes=[]   # list of 100 class labels\n",
        "class_images = [[] for x in range(100)]  # list of lists(600 images for each class label)  \n",
        "for file in os.listdir(images_path) :\n",
        "   if file.endswith('.jpg') :\n",
        "      if (file[:9] not in classes) :\n",
        "        classes.append(file[:9])\n",
        "for file in os.listdir(images_path) :\n",
        "  if file.endswith('.jpg') :\n",
        "    i = classes.index(file[:9])\n",
        "    class_images[i].append(file)        \n",
        "  "
      ],
      "execution_count": null,
      "outputs": []
    },
    {
      "cell_type": "code",
      "metadata": {
        "id": "FnWBQ5e-9Rde",
        "colab_type": "code",
        "colab": {}
      },
      "source": [
        "print(len(classes))\n",
        "print(classes[0])\n",
        "print(class_images[0])"
      ],
      "execution_count": null,
      "outputs": []
    },
    {
      "cell_type": "code",
      "metadata": {
        "id": "QGp4N4FXbdvx",
        "colab_type": "code",
        "colab": {}
      },
      "source": [
        "train_classes = classes[:64]\n",
        "validation_classes = classes[64:81]\n",
        "test_classes = classes[81:101]"
      ],
      "execution_count": null,
      "outputs": []
    },
    {
      "cell_type": "code",
      "metadata": {
        "id": "gZxz86voxSaG",
        "colab_type": "code",
        "colab": {}
      },
      "source": [
        "K=1\n",
        "C=5\n",
        "N=15"
      ],
      "execution_count": null,
      "outputs": []
    },
    {
      "cell_type": "code",
      "metadata": {
        "id": "G9Zrm9ZP_akJ",
        "colab_type": "code",
        "colab": {}
      },
      "source": [
        "def new_episode(train_classes1,class_images,K,C,N) :\n",
        "  ep_class_images=[]  #total CK images with every K images having a class C\n",
        "  ep_query_images=[]  #total CN images\n",
        "  ep_class_labels = []   #C labels\n",
        "  ep_query_labels = []   #C*N labels for each query image\n",
        "  selected_classes = np.random.choice(train_classes1, size=C)\n",
        "  for x in selected_classes :\n",
        "    ep_images=[]\n",
        "    ep_classes=[]\n",
        "    i = classes.index(x)\n",
        "    train_y = np.random.choice(class_images[i],K)\n",
        "    query_y = np.random.choice(class_images[i],N)\n",
        "    for img in train_y : \n",
        "      ep_images.append(cv2.resize(cv2.imread(os.path.join(images_path, img)),(84,84)))\n",
        "      ep_classes.append(x)\n",
        "    ep_class_images.extend(ep_images)\n",
        "    ep_class_labels.extend(ep_classes)\n",
        "    ep_images=[]\n",
        "    ep_classes=[]\n",
        "    for img in query_y :\n",
        "      ep_images.append(cv2.resize(cv2.imread(os.path.join(images_path,img)),(84,84)))\n",
        "      ep_classes.append(x)\n",
        "    ep_query_images.extend(ep_images)\n",
        "    ep_query_labels.extend(ep_classes) \n",
        "    \n",
        "  temp1 = list(zip(ep_class_images, ep_class_labels)) \n",
        "  random.shuffle(temp1) \n",
        "  ep_class_images, ep_class_labels = zip(*temp1)\n",
        "  temp2 = list(zip(ep_query_images, ep_query_labels)) \n",
        "  random.shuffle(temp2) \n",
        "  ep_query_images, ep_query_labels = zip(*temp2)  \n",
        "  ep_class_images = np.asarray(ep_class_images, dtype=np.double)/255\n",
        "  ep_class_images = tf.convert_to_tensor(np.reshape(ep_class_images,(K*C,84,84,3)),dtype=tf.float32)\n",
        "  ep_query_images = np.asarray(ep_query_images, dtype=np.double)/255\n",
        "  ep_query_images = tf.convert_to_tensor(np.reshape(ep_query_images,(N*C,84,84,3)),dtype=tf.float32)\n",
        "  return ep_class_images, ep_class_labels, ep_query_images, ep_query_labels\n",
        "  \n"
      ],
      "execution_count": null,
      "outputs": []
    },
    {
      "cell_type": "code",
      "metadata": {
        "id": "i-KwaZeG_c5v",
        "colab_type": "code",
        "colab": {}
      },
      "source": [
        "ep_class_images, ep_class_labels, ep_query_images, ep_query_labels = new_episode(train_classes,class_images,1,5,15)"
      ],
      "execution_count": null,
      "outputs": []
    },
    {
      "cell_type": "code",
      "metadata": {
        "id": "1lJvpaqXHagI",
        "colab_type": "code",
        "colab": {
          "base_uri": "https://localhost:8080/",
          "height": 34
        },
        "outputId": "832fbfe6-7fc7-4756-f269-3f00978200c5"
      },
      "source": [
        "print(len(ep_class_images))"
      ],
      "execution_count": null,
      "outputs": [
        {
          "output_type": "stream",
          "text": [
            "5\n"
          ],
          "name": "stdout"
        }
      ]
    },
    {
      "cell_type": "code",
      "metadata": {
        "id": "cRd8PX02YDU1",
        "colab_type": "code",
        "colab": {}
      },
      "source": [
        "class Embedding_module(tf.keras.Model) :\n",
        "  def __init__(self) :\n",
        "    super(Embedding_module,self).__init__()\n",
        "    self.convi = Conv2D(64, (3,3),strides=(1,1),input_shape=(84,84,3))\n",
        "    self.conv2 = Conv2D(64, (3,3), strides=(1,1))\n",
        "    self.conv3 = Conv2D(64, (3,3), strides=(1,1))\n",
        "    self.conv4 = Conv2D(64, (3,3), strides=(1,1))\n",
        "    self.bn1 = BatchNormalization()\n",
        "    self.bn2 = BatchNormalization()\n",
        "    self.bn3 = BatchNormalization()\n",
        "    self.bn4 = BatchNormalization()\n",
        "    self.max_pool1 = MaxPool2D()\n",
        "    self.max_pool2 = MaxPool2D()\n",
        "    self.activation1 = Activation(activation = 'relu')\n",
        "    self.activation2 = Activation(activation = 'relu')\n",
        "    self.activation3 = Activation(activation = 'relu')\n",
        "    self.activation4 = Activation(activation = 'relu')\n",
        "  def call(self, x,training=True) :\n",
        "    out1 = self.convi(x)\n",
        "    out1 = self.bn1(out1)\n",
        "    out1 = self.activation1(out1)\n",
        "    out2 = self.max_pool1(out1)\n",
        "    out2 = self.conv2(out2)\n",
        "    out2 = self.bn2(out2)\n",
        "    out2 = self.activation2(out2)\n",
        "    out3 = self.max_pool2(out2)\n",
        "    out3 = self.conv3(out3)\n",
        "    out3 = self.bn3(out3)\n",
        "    out4 = self.activation3(out3)\n",
        "    out4 = self.conv4(out4)\n",
        "    out4 = self.bn4(out4)\n",
        "    out4 = self.activation4(out4)\n",
        "    return out4"
      ],
      "execution_count": null,
      "outputs": []
    },
    {
      "cell_type": "code",
      "metadata": {
        "id": "CLPuQo2azCm7",
        "colab_type": "code",
        "colab": {}
      },
      "source": [
        "embedding_out = Embedding_module()"
      ],
      "execution_count": null,
      "outputs": []
    },
    {
      "cell_type": "code",
      "metadata": {
        "id": "FYccYgxkzI9S",
        "colab_type": "code",
        "colab": {
          "base_uri": "https://localhost:8080/",
          "height": 35
        },
        "outputId": "4ece48af-1473-4046-81a2-21039ca06afb"
      },
      "source": [
        "'''out_class_fm = embedding_out(ep_class_images)\n",
        "out_query_fm = embedding_out(ep_query_images)'''"
      ],
      "execution_count": null,
      "outputs": [
        {
          "output_type": "execute_result",
          "data": {
            "application/vnd.google.colaboratory.intrinsic": {
              "type": "string"
            },
            "text/plain": [
              "'out_class_fm = embedding_out(ep_class_images)\\nout_query_fm = embedding_out(ep_query_images)'"
            ]
          },
          "metadata": {
            "tags": []
          },
          "execution_count": 14
        }
      ]
    },
    {
      "cell_type": "code",
      "metadata": {
        "id": "xddnwVw6QsDw",
        "colab_type": "code",
        "colab": {}
      },
      "source": [
        "def concatenation(out_class_fm,out_query_fm,K,C,N) : #concatenation of the embeddings\n",
        "  emb_classes=[]\n",
        "  concat_out=[]\n",
        "  for i in range(C) :\n",
        "    emb_classes.append(tf.tile(tf.expand_dims(out_class_fm[i,:,:,:],0),multiples=[C*N,1,1,1]))\n",
        "  for i in range(C) :\n",
        "    concat_out.append(tf.concat([emb_classes[i],out_query_fm],axis=-1))\n",
        "  return emb_classes, concat_out"
      ],
      "execution_count": null,
      "outputs": []
    },
    {
      "cell_type": "code",
      "metadata": {
        "id": "XXfAtf3yYJAh",
        "colab_type": "code",
        "colab": {}
      },
      "source": [
        "class Relation_score(tf.keras.Model) :\n",
        "  def __init__(self) :\n",
        "    super(Relation_score, self).__init__()\n",
        "    self.convi = Conv2D(64, (3,3),strides=(1,1),input_shape=(15,15,128))\n",
        "    self.conv = Conv2D(64, (3,3), strides=(1,1),padding = 'same')\n",
        "    self.bn1 = BatchNormalization()\n",
        "    self.bn2 = BatchNormalization()\n",
        "    self.max_pool1 = MaxPool2D()\n",
        "    self.max_pool2 = MaxPool2D()\n",
        "    self.flatten = Flatten()\n",
        "    self.dense1 = Dense(8,activation='relu')\n",
        "    self.dense2 = Dense(1,activation='sigmoid')\n",
        "    self.activation1 = Activation('relu')\n",
        "    self.activation2 = Activation('relu')  \n",
        "  def call(self, x, training=True) :\n",
        "    out1 = self.convi(x)\n",
        "    out1 = self.bn1(out1)\n",
        "    out1 = self.activation1(out1)\n",
        "    out2 = self.max_pool1(out1)\n",
        "    out2 = self.conv(out2)\n",
        "    out2 = self.bn2(out2)\n",
        "    out2 = self.activation2(out2)\n",
        "    out3 = self.max_pool2(out2)\n",
        "    out3 = self.flatten(out3)\n",
        "    out3 = self.dense1(out3)\n",
        "    out4 = self.dense2(out3)\n",
        "    return out4\n"
      ],
      "execution_count": null,
      "outputs": []
    },
    {
      "cell_type": "code",
      "metadata": {
        "id": "iFZ6Rt8BLlv2",
        "colab_type": "code",
        "colab": {}
      },
      "source": [
        "rs = Relation_score()"
      ],
      "execution_count": null,
      "outputs": []
    },
    {
      "cell_type": "code",
      "metadata": {
        "id": "_fk6g1-iaWp1",
        "colab_type": "code",
        "colab": {}
      },
      "source": [
        "boundaries = [100000, 200000, 300000]\n",
        "values = [1e-3, 0.5e-3, 0.25e-3,0.125e-3]\n",
        "learning_rate_fn = tf.keras.optimizers.schedules.PiecewiseConstantDecay(\n",
        "    boundaries, values)\n",
        "optimizer = tf.keras.optimizers.Adam(1e-3)"
      ],
      "execution_count": null,
      "outputs": []
    },
    {
      "cell_type": "code",
      "metadata": {
        "id": "fbq0pADijqDc",
        "colab_type": "code",
        "colab": {}
      },
      "source": [
        "def train_step(ep_class_images,ep_query_images,ep_class_labels,ep_query_labels,K,C,N) :\n",
        "  loss=0\n",
        "  with tf.GradientTape() as tape :\n",
        "    out_class_fm = embedding_out(ep_class_images)\n",
        "    out_query_fm = embedding_out(ep_query_images)\n",
        "    emb_classes, econcat_out = concatenation(out_class_fm,out_query_fm,K,C,N)\n",
        "    relation_scores = tf.concat(values=[rs(econcat_out[0]),rs(econcat_out[1]), rs(econcat_out[2]), rs(econcat_out[3]), rs(econcat_out[4])],axis=1)\n",
        "    real_one_hot = np.zeros([75,5],dtype=np.float32)\n",
        "    for i in range(C*N) :  \n",
        "      x = ep_class_labels.index(ep_query_labels[i])\n",
        "      real_one_hot[i][x]=1.\n",
        "    real_one_hot = tf.convert_to_tensor(real_one_hot,dtype=tf.float32)\n",
        "    loss = tf.reduce_sum(tf.square(tf.subtract(real_one_hot,relation_scores)))\n",
        "  variables = rs.trainable_variables + embedding_out.trainable_variables\n",
        "  gradients = tape.gradient(loss, variables)\n",
        "  optimizer.apply_gradients(zip(gradients, variables))\n",
        "  return loss"
      ],
      "execution_count": null,
      "outputs": []
    },
    {
      "cell_type": "code",
      "metadata": {
        "id": "EYuad5KJd_68",
        "colab_type": "code",
        "colab": {}
      },
      "source": [
        "checkpoint_dir = '/content/drive/My Drive/training_checkpoints_1_shot_relation_network'\n",
        "checkpoint_prefix = os.path.join(checkpoint_dir, \"ckpt\")\n",
        "checkpoint = tf.train.Checkpoint(optimizer=optimizer,\n",
        "                                 embedding_out=embedding_out,\n",
        "                                 rs=rs)"
      ],
      "execution_count": null,
      "outputs": []
    },
    {
      "cell_type": "code",
      "metadata": {
        "id": "hDmC6ZQ7jyqY",
        "colab_type": "code",
        "colab": {}
      },
      "source": [
        "epochs = 200000\n",
        "for i in range(epochs) :\n",
        "  ep_class_images, ep_class_labels, ep_query_images, ep_query_labels = new_episode(train_classes,class_images,1,5,15)\n",
        "  loss = train_step(ep_class_images,ep_query_images,ep_class_labels,ep_query_labels,1,5,15)\n",
        "  if i %1000 == 0 :\n",
        "    print('epoch',i,loss)\n",
        "  if i % 5000 == 0 and i!=0:\n",
        "      checkpoint.save(file_prefix = checkpoint_prefix)\n",
        "      epochs = 600\n",
        "      correct = 0\n",
        "      for i in range(epochs) :\n",
        "        ep_class_images, ep_class_labels, ep_query_images, ep_query_labels = new_episode(test_classes,class_images,1,5,15)\n",
        "        x = test_step(ep_class_images,ep_query_images,ep_class_labels,ep_query_labels,1,5,15)\n",
        "        correct += x\n",
        "      print('accuracy',correct/(6*75))"
      ],
      "execution_count": null,
      "outputs": []
    },
    {
      "cell_type": "code",
      "metadata": {
        "id": "LILjExDseVpf",
        "colab_type": "code",
        "colab": {
          "base_uri": "https://localhost:8080/",
          "height": 34
        },
        "outputId": "59941bb8-3888-48df-921a-63dad5bf7c06"
      },
      "source": [
        "checkpoint.restore('/content/drive/My Drive/training_checkpoints_1_shot_relation_network/ckpt-39')"
      ],
      "execution_count": null,
      "outputs": [
        {
          "output_type": "execute_result",
          "data": {
            "text/plain": [
              "<tensorflow.python.training.tracking.util.CheckpointLoadStatus at 0x7f7c8a20cc18>"
            ]
          },
          "metadata": {
            "tags": []
          },
          "execution_count": 22
        }
      ]
    },
    {
      "cell_type": "code",
      "metadata": {
        "id": "WfrQP8x2jMQM",
        "colab_type": "code",
        "colab": {}
      },
      "source": [
        "def test_step(ep_class_images, ep_query_images,ep_class_labels,ep_query_labels, K, C, N) :\n",
        "    correct_labels = []\n",
        "    correct_pred = []\n",
        "    out_class_fm = embedding_out(ep_class_images)\n",
        "    out_query_fm = embedding_out(ep_query_images)\n",
        "    emb_classes, econcat_out = concatenation(out_class_fm,out_query_fm,K,C,N)\n",
        "    relation_scores = tf.concat(values=[rs(econcat_out[0]),rs(econcat_out[1]), rs(econcat_out[2]), rs(econcat_out[3]), rs(econcat_out[4])],axis=1)\n",
        "    predicted_labels = tf.math.argmax(relation_scores, axis =1)\n",
        "    real_one_hot = np.zeros([C*N,1],dtype=np.int64)\n",
        "    for i in range(C*N) :  \n",
        "      x = ep_class_labels.index(ep_query_labels[i])\n",
        "      real_one_hot[i] = x\n",
        "    real_one_hot = tf.convert_to_tensor(real_one_hot,dtype=tf.int64)    \n",
        "    for i, j in zip(predicted_labels, real_one_hot) :\n",
        "       if (i == j) :\n",
        "         correct_labels.append(i)\n",
        "    x = len(correct_labels)\n",
        "    return x"
      ],
      "execution_count": null,
      "outputs": []
    },
    {
      "cell_type": "code",
      "metadata": {
        "id": "rzlMhPE6jiKh",
        "colab_type": "code",
        "colab": {
          "base_uri": "https://localhost:8080/",
          "height": 34
        },
        "outputId": "75064575-7af2-4f23-c3f6-3953471e18b4"
      },
      "source": [
        "epochs = 600\n",
        "correct = 0\n",
        "for i in range(epochs) :\n",
        "  ep_class_images, ep_class_labels, ep_query_images, ep_query_labels = new_episode(test_classes,class_images,1,5,15)\n",
        "  x = test_step(ep_class_images,ep_query_images,ep_class_labels,ep_query_labels,1,5,15)\n",
        "  correct += x\n",
        "print('accuracy',correct/(6*75))"
      ],
      "execution_count": null,
      "outputs": [
        {
          "output_type": "stream",
          "text": [
            "accuracy 51.87555555555556\n"
          ],
          "name": "stdout"
        }
      ]
    },
    {
      "cell_type": "code",
      "metadata": {
        "id": "l7qZXXK7Frsc",
        "colab_type": "code",
        "colab": {}
      },
      "source": [
        ""
      ],
      "execution_count": null,
      "outputs": []
    }
  ]
}